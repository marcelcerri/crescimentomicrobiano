{
  "nbformat": 4,
  "nbformat_minor": 0,
  "metadata": {
    "colab": {
      "provenance": [],
      "collapsed_sections": [],
      "include_colab_link": true
    },
    "kernelspec": {
      "name": "python3",
      "display_name": "Python 3"
    },
    "language_info": {
      "name": "python"
    }
  },
  "cells": [
    {
      "cell_type": "markdown",
      "metadata": {
        "id": "view-in-github",
        "colab_type": "text"
      },
      "source": [
        "<a href=\"https://colab.research.google.com/github/marcelcerri/crescimentomicrobiano/blob/master/Batelada_Simula%C3%A7%C3%A3o_do_ac%C3%BAmulo_celular_(%CE%BC_constante).ipynb\" target=\"_parent\"><img src=\"https://colab.research.google.com/assets/colab-badge.svg\" alt=\"Open In Colab\"/></a>"
      ]
    },
    {
      "cell_type": "markdown",
      "source": [
        "#Batelada Simples\n"
      ],
      "metadata": {
        "id": "tZi0cDkxvFIs"
      }
    },
    {
      "cell_type": "markdown",
      "source": [
        "##Balanço de Massa Celular"
      ],
      "metadata": {
        "id": "ObQY8sxXodw9"
      }
    },
    {
      "cell_type": "markdown",
      "source": [
        "Acúmulo = Entra - Sai + Geração - Consumo\n",
        "\n",
        "⠀\n",
        "\n",
        "Para Batelada Simples o balanço geral é simplificado para: \n",
        "\n",
        "\n",
        "> Acúmulo $=$ Geração\n",
        "\n",
        "⠀⠀⠀⠀⠀⠀⠀⠀⠀$\\therefore$\n",
        "\n",
        "> ⠀⠀⠀$\\frac{\\mathrm{dm_{x}} }{\\mathrm{d} t} = R_{x}$ ⠀⠀⠀⠀⠀⠀⠀⠀⠀⠀⠀⠀⠀⠀⠀⠀⠀ Eq. (1)\n",
        "\n",
        "---\n",
        "Na qual: **Variação mássica celular = $\\frac{\\mathrm{dm_{x}} }{\\mathrm{d} t}$** e **Geração mássica celular = $R_{x}$**\n",
        "\n",
        "---"
      ],
      "metadata": {
        "id": "qL5PiNvkoikO"
      }
    },
    {
      "cell_type": "markdown",
      "source": [
        "Substituindo massa $m_{x}$ pela concentração celular $C_{x}$ utilizando a relação $C_{x}=\\frac{m_{x}}{V}$, a geração celular passa a ser descrita por $r_{x}=\\frac{R_{x}}{V}$. Como na batelada simples não há variação de volume no biorreator, $\\frac{\\mathrm{dC_{x}V} }{\\mathrm{d} t}\\Rightarrow V\\frac{\\mathrm{dC_{x}} }{\\mathrm{d} t}$. \n",
        "⠀\n",
        "\n",
        "⠀⠀⠀\n",
        "\n",
        "Assim, a variação da concentração celular com o tempo é descrita pela Eq. (2):\n",
        "\n",
        "$\\frac{\\mathrm{dC_{x}V} }{\\mathrm{d} t} = R_{x}\\Rightarrow V\\frac{\\mathrm{dC_{x}} }{\\mathrm{d} t} =r_{x}V$\n",
        "\n",
        "⠀⠀⠀⠀⠀⠀$\\therefore$\n",
        "> $\\frac{\\mathrm{dC_{x}} }{\\mathrm{d} t} =r_{x}$ ⠀⠀⠀⠀⠀⠀⠀⠀⠀⠀⠀⠀⠀⠀⠀⠀⠀⠀⠀⠀⠀⠀Eq. (2)\n",
        "\n",
        "\n",
        "\n",
        "\n"
      ],
      "metadata": {
        "id": "-oZVk0uTu7Pn"
      }
    },
    {
      "cell_type": "markdown",
      "source": [
        "Uitlizando a relação para reações de primeira ordem:\n",
        "\n",
        "$r_{x}=\\frac{\\mathrm{d}[C] }{\\mathrm{d} t} = k[C]^{1}$ \n",
        "\n",
        "---\n",
        "\n",
        "Na qual: $[C]^{1} = C_{x}$ e $k=\\mu$ \n",
        "\n",
        "---\n"
      ],
      "metadata": {
        "id": "i_MlHoIzybcn"
      }
    },
    {
      "cell_type": "markdown",
      "source": [
        "Chega-se na relação final para a variação da concentração celular:\n",
        "\n",
        "\n",
        "> $\\frac{\\mathrm{dC_{x}} }{\\mathrm{d} t} =\\mu C_{x}$ ⠀⠀⠀⠀⠀⠀⠀⠀⠀⠀⠀⠀⠀⠀⠀⠀⠀⠀⠀⠀⠀Eq. (3)\n",
        "\n"
      ],
      "metadata": {
        "id": "xDgZgYA_zlDI"
      }
    },
    {
      "cell_type": "markdown",
      "source": [
        "Assim, é definida a função para integração numérica ***C_Var*** que descreve a variação de Cx com o tempo"
      ],
      "metadata": {
        "id": "fYUDfKiO5WQR"
      }
    },
    {
      "cell_type": "code",
      "source": [
        "def C_Var(Cx, t, μ):\n",
        "    dCxdt = μ*Cx #Eq. (3)\n",
        "    return dCxdt"
      ],
      "metadata": {
        "id": "wcTwoUhw5Vd2"
      },
      "execution_count": null,
      "outputs": []
    },
    {
      "cell_type": "markdown",
      "source": [
        "Rearranjando e integrando a Eq. (3):\n",
        "\n",
        "$\\frac{1}{C_{x}}\\frac{\\mathrm{dC_{x}} }{\\mathrm{d} t} =\\mu\n",
        "\\mathrm{d}t\\Rightarrow\\int_{C_{0}}^{C}\\frac{1}{C_{x}}\\frac{\\mathrm{dC_{x}} }{\\mathrm{d} t} =\\int_{t_{0}}^{t}\\mu\n",
        "\\mathrm{d}t $ \n",
        "\n",
        "⠀⠀⠀⠀⠀⠀⠀⠀⠀⠀⠀⠀$\\therefore$\n",
        "⠀\n",
        "> $ln(C_{x}-C_{0})=\\mu (t-t_{0})$⠀⠀⠀⠀⠀⠀⠀⠀⠀⠀⠀ Eq. (4)\n",
        "\n",
        "---\n",
        "Na qual: **Tempo Inicial** $= t_{0}$ e **Concentração inicial** $= C_{0}$ ⠀⠀⠀\n",
        "\n",
        "---"
      ],
      "metadata": {
        "id": "H0wjLv950LJw"
      }
    },
    {
      "cell_type": "code",
      "source": [
        "# Condições iniciais\n",
        "Cx0 = 1\n",
        "# Vetor tempo\n",
        "t=arange(0, 12.5, 0.5) #Variação do tempo\n",
        "print(t)"
      ],
      "metadata": {
        "colab": {
          "base_uri": "https://localhost:8080/"
        },
        "id": "2igYCxIE5x6h",
        "outputId": "b97db66b-3536-45a2-a92c-64445ceae01f"
      },
      "execution_count": null,
      "outputs": [
        {
          "output_type": "stream",
          "name": "stdout",
          "text": [
            "[ 0.   0.5  1.   1.5  2.   2.5  3.   3.5  4.   4.5  5.   5.5  6.   6.5\n",
            "  7.   7.5  8.   8.5  9.   9.5 10.  10.5 11.  11.5 12. ]\n"
          ]
        }
      ]
    },
    {
      "cell_type": "markdown",
      "source": [
        "Aplicando exponencial à Eq. (4) chega-se na relação final dada pela Eq. (5):\n",
        "\n",
        "> $C_{x}=C_{0}+e^{\\mu (t-t_{0})}$\n",
        "\n"
      ],
      "metadata": {
        "id": "xd4p53X03M1F"
      }
    },
    {
      "cell_type": "markdown",
      "source": [
        "##Simulação da variação da concentração celular"
      ],
      "metadata": {
        "id": "DmwVAmBh47KQ"
      }
    },
    {
      "cell_type": "code",
      "source": [
        "from scipy.integrate import odeint\n",
        "from numpy import arange\n",
        "import matplotlib.pyplot as plt\n",
        "import numpy as np"
      ],
      "metadata": {
        "id": "HpO5etuY5EJ_"
      },
      "execution_count": null,
      "outputs": []
    },
    {
      "cell_type": "code",
      "source": [
        "# Condições iniciais\n",
        "Cx0 = 1\n",
        "# Vetor tempo\n",
        "t=arange(0,12.5, 0.5) # Variação do tempo"
      ],
      "metadata": {
        "id": "IsGCugxc5Irp"
      },
      "execution_count": null,
      "outputs": []
    },
    {
      "cell_type": "code",
      "source": [
        "def C_Var(Cx, t, μ):\n",
        "    dCxdt = μ*Cx #Eq. (3)\n",
        "    return dCxdt\n",
        "\n",
        "mi = 0.1 # Valor inicial de μ"
      ],
      "metadata": {
        "id": "zTGAUHvz5Nla"
      },
      "execution_count": null,
      "outputs": []
    },
    {
      "cell_type": "markdown",
      "source": [
        "Criação do loop que permite a alteração das condições iniciais e geração do gráfico"
      ],
      "metadata": {
        "id": "-j4G2gwY51jh"
      }
    },
    {
      "cell_type": "code",
      "source": [
        "# Contadores\n",
        "x = 0\n",
        "p = 5 # Número de condições iniciais\n",
        "\n",
        "while (x < p): \n",
        "    Result = odeint(C_Var, Cx0, t, args=(mi, ))\n",
        "    Cx0+=1 #Variação da concentração inicial\n",
        "    mi=mi+0.01 #Variação de μ \n",
        "    plt.plot(t, Result, label='Cx' + str(x+1))\n",
        "    #print ('Cx' + str(x) + str(Result))\n",
        "    x+=1\n",
        "\n",
        "plt.xlabel('Tempo')\n",
        "plt.ylabel('Concentração')\n",
        "plt.legend()\n",
        "plt.show()"
      ],
      "metadata": {
        "colab": {
          "base_uri": "https://localhost:8080/",
          "height": 279
        },
        "id": "7MWmGZhN51MH",
        "outputId": "807226dc-ab6d-446a-93f3-3c52eb5c1f08"
      },
      "execution_count": null,
      "outputs": [
        {
          "output_type": "display_data",
          "data": {
            "text/plain": [
              "<Figure size 432x288 with 1 Axes>"
            ],
            "image/png": "[encoded data removed]"
          },
          "metadata": {
            "needs_background": "light"
          }
        }
      ]
    }
  ]
}